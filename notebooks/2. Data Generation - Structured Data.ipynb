{
 "cells": [
  {
   "cell_type": "code",
   "execution_count": 0,
   "metadata": {
    "application/vnd.databricks.v1+cell": {
     "cellMetadata": {
      "byteLimit": 2048000,
      "rowLimit": 10000
     },
     "inputWidgets": {},
     "nuid": "afafe551-dac8-4e6b-8400-a82ca7dc9d82",
     "showTitle": false,
     "tableResultSettingsMap": {},
     "title": ""
    }
   },
   "outputs": [],
   "source": [
    "%pip install faker"
   ]
  },
  {
   "cell_type": "code",
   "execution_count": 0,
   "metadata": {
    "application/vnd.databricks.v1+cell": {
     "cellMetadata": {
      "byteLimit": 2048000,
      "rowLimit": 10000
     },
     "inputWidgets": {},
     "nuid": "be87a6d4-0bae-4aa4-9bf0-b910eb58b1b8",
     "showTitle": false,
     "tableResultSettingsMap": {},
     "title": ""
    }
   },
   "outputs": [],
   "source": [
    "import pandas as pd\n",
    "import random\n",
    "from datetime import datetime, timedelta\n",
    "import faker\n",
    "from pyspark.sql.functions import expr\n",
    "import json"
   ]
  },
  {
   "cell_type": "code",
   "execution_count": 0,
   "metadata": {
    "application/vnd.databricks.v1+cell": {
     "cellMetadata": {
      "byteLimit": 2048000,
      "rowLimit": 10000
     },
     "inputWidgets": {},
     "nuid": "1b052e8c-2489-4eda-a8a4-2051ce1905be",
     "showTitle": false,
     "tableResultSettingsMap": {},
     "title": ""
    }
   },
   "outputs": [],
   "source": [
    "# Parameters\n",
    "catalog = \"mzervou\"\n",
    "schema = \"healthcare\"\n",
    "model_name = \"databricks-meta-llama-3-70b-instruct\"\n",
    "start_date = datetime(2024, 1, 1)\n",
    "end_date = datetime(2025, 6, 1)"
   ]
  },
  {
   "cell_type": "code",
   "execution_count": 0,
   "metadata": {
    "application/vnd.databricks.v1+cell": {
     "cellMetadata": {
      "byteLimit": 2048000,
      "rowLimit": 10000
     },
     "inputWidgets": {},
     "nuid": "2c7c59bc-362d-4212-838b-d59763721b50",
     "showTitle": false,
     "tableResultSettingsMap": {},
     "title": ""
    }
   },
   "outputs": [],
   "source": [
    "faker = faker.Faker()\n",
    "\n",
    "# # Load patient visit data to use as base\n",
    "# df_visits = spark.read.table(f\"{catalog}.{schema}.synthetic_patient_visits\").toPandas()\n",
    "\n",
    "# Helper to randomize timestamp\n",
    "def random_datetime(start, end):\n",
    "    return start + timedelta(seconds=random.randint(0, int((end - start).total_seconds())))\n",
    "\n"
   ]
  },
  {
   "cell_type": "code",
   "execution_count": 0,
   "metadata": {
    "application/vnd.databricks.v1+cell": {
     "cellMetadata": {
      "byteLimit": 2048000,
      "rowLimit": 10000
     },
     "inputWidgets": {},
     "nuid": "25374635-a9d4-4c26-a2de-a8454bb3267c",
     "showTitle": false,
     "tableResultSettingsMap": {},
     "title": ""
    }
   },
   "outputs": [],
   "source": [
    "df_spark_visits = spark.read.table(f\"{catalog}.{schema}.synthetic_patient_visits\")"
   ]
  },
  {
   "cell_type": "code",
   "execution_count": 0,
   "metadata": {
    "application/vnd.databricks.v1+cell": {
     "cellMetadata": {
      "byteLimit": 2048000,
      "rowLimit": 10000
     },
     "inputWidgets": {},
     "nuid": "25400386-a884-4dfd-a89e-9ba6e9c59eb0",
     "showTitle": false,
     "tableResultSettingsMap": {},
     "title": ""
    }
   },
   "outputs": [],
   "source": [
    "# ---------- LAB RESULTS (via LLM) ----------\n",
    "df_spark_visits = spark.read.table(f\"{catalog}.{schema}.synthetic_patient_visits\")\n",
    "lab_schema = json.dumps({\n",
    "    \"type\": \"json_schema\",\n",
    "    \"json_schema\": {\n",
    "        \"name\": \"lab_results_extraction\",\n",
    "        \"schema\": {\n",
    "            \"type\": \"object\",\n",
    "            \"properties\": {\n",
    "                \"lab_results\": {\n",
    "                    \"type\": \"array\",\n",
    "                    \"items\": {\n",
    "                        \"type\": \"object\",\n",
    "                        \"properties\": {\n",
    "                            \"lab_name\": {\"type\": \"string\"},\n",
    "                            \"lab_value\": {\"type\": \"number\"},\n",
    "                            \"lab_unit\": {\"type\": \"string\"},\n",
    "                            \"abnormal_flag\": {\"type\": \"string\"}\n",
    "                        }\n",
    "                    }\n",
    "                }\n",
    "            },\n",
    "            \"required\": [\"lab_results\"],\n",
    "            \"strict\": True\n",
    "        }\n",
    "    }\n",
    "})\n",
    "df_lab = df_spark_visits.withColumn(\n",
    "    \"lab_results\",\n",
    "    expr(\n",
    "        f\"\"\"\n",
    "        ai_query(\n",
    "            endpoint => '{model_name}',\n",
    "            request => concat(\n",
    "                'You are generating realistic lab results for a patient seen in the ', department,\n",
    "                ' department on ', visit_datetime, '. Return two lab results as JSON.'\n",
    "            ),\n",
    "            responseFormat => '{lab_schema}'\n",
    "        )\n",
    "        \"\"\"\n",
    "    )\n",
    ")\n",
    "df_lab.write.mode(\"overwrite\").saveAsTable(f\"{catalog}.{schema}.lab_results_raw\")\n",
    "\n",
    "print(\"✅ Lab results with valid json_schema format generated and saved.\")\n"
   ]
  },
  {
   "cell_type": "code",
   "execution_count": 0,
   "metadata": {
    "application/vnd.databricks.v1+cell": {
     "cellMetadata": {
      "byteLimit": 2048000,
      "rowLimit": 10000
     },
     "inputWidgets": {},
     "nuid": "6a4a8b5b-4bea-4142-821b-372c7a2370c5",
     "showTitle": false,
     "tableResultSettingsMap": {},
     "title": ""
    }
   },
   "outputs": [],
   "source": [
    "# ---------- DIAGNOSES (via LLM) ----------\n",
    "diagnosis_schema = json.dumps({\n",
    "    \"type\": \"json_schema\",\n",
    "    \"json_schema\": {\n",
    "        \"name\": \"diagnosis_extraction\",\n",
    "        \"schema\": {\n",
    "            \"type\": \"object\",\n",
    "            \"properties\": {\n",
    "                \"icd10_code\": {\"type\": \"string\"},\n",
    "                \"diagnosis_text\": {\"type\": \"string\"},\n",
    "                \"diagnosis_status\": {\"type\": \"string\"}\n",
    "            },\n",
    "            \"required\": [\"icd10_code\", \"diagnosis_text\", \"diagnosis_status\"],\n",
    "            \"strict\": True\n",
    "        }\n",
    "    }\n",
    "})\n",
    "df_diag = df_spark_visits.withColumn(\n",
    "    \"diagnosis\",\n",
    "    expr(\n",
    "        f\"\"\"\n",
    "        ai_query(\n",
    "            endpoint => '{model_name}',\n",
    "            request => concat(\n",
    "                'The patient visited for ', department,\n",
    "                '. Return one ICD-10 diagnosis and description in structured JSON.'\n",
    "            ),\n",
    "            responseFormat => '{diagnosis_schema}'\n",
    "        )\n",
    "        \"\"\"\n",
    "    )\n",
    ")\n",
    "df_diag.write.mode(\"overwrite\").saveAsTable(f\"{catalog}.{schema}.diagnoses_raw\")\n",
    "\n",
    "# ---------- MEDICATIONS (via LLM) ----------\n",
    "med_schema = json.dumps({\n",
    "    \"type\": \"json_schema\",\n",
    "    \"json_schema\": {\n",
    "        \"name\": \"medications_extraction\",\n",
    "        \"schema\": {\n",
    "            \"type\": \"object\",\n",
    "            \"properties\": {\n",
    "                \"medication_name\": {\"type\": \"string\"},\n",
    "                \"dose\": {\"type\": \"string\"},\n",
    "                \"frequency\": {\"type\": \"string\"},\n",
    "                \"route\": {\"type\": \"string\"}\n",
    "            },\n",
    "            \"required\": [\"medication_name\", \"dose\", \"frequency\", \"route\"],\n",
    "            \"strict\": True\n",
    "        }\n",
    "    }\n",
    "})\n",
    "df_meds = df_spark_visits.withColumn(\n",
    "    \"medications\",\n",
    "    expr(\n",
    "        f\"\"\"\n",
    "        ai_query(\n",
    "            endpoint => '{model_name}',\n",
    "            request => concat(\n",
    "                'After seeing this patient, the doctor prescribed a medication. Return details as structured JSON.'\n",
    "            ),\n",
    "            responseFormat => '{med_schema}'\n",
    "        )\n",
    "        \"\"\"\n",
    "    )\n",
    ")\n",
    "df_meds.write.mode(\"overwrite\").saveAsTable(f\"{catalog}.{schema}.medications_raw\")\n",
    "\n",
    "print(\"✅ Structured data (diagnoses, medications) generated using ai_query with enforced schema are ccreated.\")\n"
   ]
  },
  {
   "cell_type": "code",
   "execution_count": 0,
   "metadata": {
    "application/vnd.databricks.v1+cell": {
     "cellMetadata": {},
     "inputWidgets": {},
     "nuid": "cf1bc93b-50fe-480d-9603-9389fa6ce5d6",
     "showTitle": false,
     "tableResultSettingsMap": {},
     "title": ""
    }
   },
   "outputs": [],
   "source": []
  }
 ],
 "metadata": {
  "application/vnd.databricks.v1+notebook": {
   "computePreferences": null,
   "dashboards": [],
   "environmentMetadata": {
    "base_environment": "",
    "environment_version": "2"
   },
   "inputWidgetPreferences": null,
   "language": "python",
   "notebookMetadata": {
    "pythonIndentUnit": 2
   },
   "notebookName": "2. Data Generation - Structured Data",
   "widgets": {}
  },
  "language_info": {
   "name": "python"
  }
 },
 "nbformat": 4,
 "nbformat_minor": 0
}
