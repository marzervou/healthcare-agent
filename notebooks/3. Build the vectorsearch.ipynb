{
 "cells": [
  {
   "cell_type": "code",
   "execution_count": 0,
   "metadata": {
    "application/vnd.databricks.v1+cell": {
     "cellMetadata": {
      "byteLimit": 2048000,
      "rowLimit": 10000
     },
     "inputWidgets": {},
     "nuid": "7f633882-56e0-4a98-8525-573608d2a714",
     "showTitle": false,
     "tableResultSettingsMap": {},
     "title": ""
    }
   },
   "outputs": [],
   "source": [
    "%pip install --upgrade \"mlflow[databricks]>=3.1.0\" openai \"databricks-connect>=16.1\"\n",
    "%pip install databricks-vectorsearch\n",
    "dbutils.library.restartPython()"
   ]
  },
  {
   "cell_type": "code",
   "execution_count": 0,
   "metadata": {
    "application/vnd.databricks.v1+cell": {
     "cellMetadata": {
      "byteLimit": 2048000,
      "rowLimit": 10000
     },
     "inputWidgets": {},
     "nuid": "00f035ca-b2d3-40d0-9fac-f9c66b2b77ab",
     "showTitle": false,
     "tableResultSettingsMap": {},
     "title": ""
    }
   },
   "outputs": [],
   "source": [
    "import mlflow\n",
    "from openai import OpenAI\n",
    "import pandas as pd\n",
    "from pyspark.sql.functions import col, lit\n",
    "from databricks.vector_search.client import VectorSearchClient\n",
    "\n"
   ]
  },
  {
   "cell_type": "code",
   "execution_count": 0,
   "metadata": {
    "application/vnd.databricks.v1+cell": {
     "cellMetadata": {
      "byteLimit": 2048000,
      "rowLimit": 10000
     },
     "inputWidgets": {},
     "nuid": "6b1c88ed-83cf-420f-be73-b43baa5f684c",
     "showTitle": false,
     "tableResultSettingsMap": {},
     "title": ""
    }
   },
   "outputs": [],
   "source": [
    "# Parameters\n",
    "CATALOG = \"mzervou\"\n",
    "SCHEMA = \"healthcare\"\n",
    "SOURCE_TABLE = f\"{CATALOG}.{SCHEMA}.synthetic_audio_transcripts_enriched\"\n",
    "INDEX_NAME = \"mzervou.healthcare.synthetic_audio_transcripts_enriched_index\"\n",
    "EMBEDDING_MODEL = \"databricks-bge-large-en\"  # Most up-to-date embedding model on Databricks\n",
    "VECTOR_ENDPOINT = \"one-env-shared-endpoint-10\"\n",
    "\n",
    "# Step 1: Load the source table\n",
    "source_df = spark.table(SOURCE_TABLE)"
   ]
  },
  {
   "cell_type": "code",
   "execution_count": 0,
   "metadata": {
    "application/vnd.databricks.v1+cell": {
     "cellMetadata": {
      "byteLimit": 2048000,
      "rowLimit": 10000
     },
     "inputWidgets": {},
     "nuid": "fc27b361-693e-4ece-8eb8-8a1c96100af4",
     "showTitle": false,
     "tableResultSettingsMap": {},
     "title": ""
    }
   },
   "outputs": [],
   "source": [
    "client = VectorSearchClient()"
   ]
  },
  {
   "cell_type": "code",
   "execution_count": 0,
   "metadata": {
    "application/vnd.databricks.v1+cell": {
     "cellMetadata": {
      "byteLimit": 2048000,
      "rowLimit": 10000
     },
     "inputWidgets": {},
     "nuid": "1f0c4b40-a686-4b4d-a9b1-f69fcfe7feb1",
     "showTitle": false,
     "tableResultSettingsMap": {},
     "title": ""
    },
    "jupyter": {
     "source_hidden": true
    }
   },
   "outputs": [],
   "source": [
    "# client.create_endpoint(\n",
    "#     name=VECTOR_ENDPOINT,\n",
    "#     endpoint_type=\"STANDARD\" # or \"STORAGE_OPTIMIZED\"\n",
    "# )"
   ]
  },
  {
   "cell_type": "code",
   "execution_count": 0,
   "metadata": {
    "application/vnd.databricks.v1+cell": {
     "cellMetadata": {
      "byteLimit": 2048000,
      "implicitDf": true,
      "rowLimit": 10000
     },
     "inputWidgets": {},
     "nuid": "07aff543-4c99-49d0-8206-6ca9fdf4bcc7",
     "showTitle": false,
     "tableResultSettingsMap": {},
     "title": ""
    },
    "jupyter": {
     "source_hidden": true
    }
   },
   "outputs": [],
   "source": [
    "%sql\n",
    "\n",
    "ALTER TABLE mzervou.healthcare.synthetic_audio_transcripts_enriched\n",
    "SET TBLPROPERTIES (delta.enableChangeDataFeed = true);"
   ]
  },
  {
   "cell_type": "code",
   "execution_count": 0,
   "metadata": {
    "application/vnd.databricks.v1+cell": {
     "cellMetadata": {
      "byteLimit": 2048000,
      "rowLimit": 10000
     },
     "inputWidgets": {},
     "nuid": "7209644f-27a7-4a27-b482-38d447571d36",
     "showTitle": false,
     "tableResultSettingsMap": {},
     "title": ""
    }
   },
   "outputs": [],
   "source": [
    "# create index\n",
    "index = client.create_delta_sync_index(\n",
    "  endpoint_name=VECTOR_ENDPOINT,\n",
    "  source_table_name=SOURCE_TABLE,\n",
    "  index_name=f\"{SOURCE_TABLE}_index\",\n",
    "  pipeline_type=\"TRIGGERED\",\n",
    "  primary_key=\"patient_id\",\n",
    "  embedding_source_column=\"audio_transcript\",\n",
    "  embedding_model_endpoint_name=EMBEDDING_MODEL\n",
    ")"
   ]
  },
  {
   "cell_type": "code",
   "execution_count": 0,
   "metadata": {
    "application/vnd.databricks.v1+cell": {
     "cellMetadata": {
      "byteLimit": 2048000,
      "rowLimit": 10000
     },
     "inputWidgets": {},
     "nuid": "54a22b1a-6d02-4e78-9152-d8e50a1f97ad",
     "showTitle": true,
     "tableResultSettingsMap": {},
     "title": "Test the Index"
    }
   },
   "outputs": [],
   "source": [
    "\n",
    "# Create index object\n",
    "index = client.get_index(\n",
    "    endpoint_name=VECTOR_ENDPOINT,\n",
    "    index_name=f\"{SOURCE_TABLE}_index\"\n",
    ")\n",
    "\n",
    "# Step 5: Example query\n",
    "QUERY = \"Patient reports chest pain and shortness of breath\"\n",
    "\n",
    "\n",
    "# Match rows where `title` exactly matches `Athena` or `Ares`\n",
    "results = index.similarity_search(\n",
    "    query_text=QUERY,\n",
    "    columns=[\"patient_id\", \"audio_transcript\", \"department\"],\n",
    "    filters={\"department\": [\"General Medicine\", \"Cardiology\"]},\n",
    "    num_results=2\n",
    "    )\n",
    "\n",
    "print(results)\n"
   ]
  },
  {
   "cell_type": "code",
   "execution_count": 0,
   "metadata": {
    "application/vnd.databricks.v1+cell": {
     "cellMetadata": {},
     "inputWidgets": {},
     "nuid": "59ce0d2e-626e-464e-8700-f96fc526f841",
     "showTitle": false,
     "tableResultSettingsMap": {},
     "title": ""
    }
   },
   "outputs": [],
   "source": []
  },
  {
   "cell_type": "code",
   "execution_count": 0,
   "metadata": {
    "application/vnd.databricks.v1+cell": {
     "cellMetadata": {
      "byteLimit": 2048000,
      "rowLimit": 10000
     },
     "inputWidgets": {},
     "nuid": "4f932834-0bdc-4661-ba28-8b375b18c33b",
     "showTitle": false,
     "tableResultSettingsMap": {},
     "title": ""
    }
   },
   "outputs": [],
   "source": [
    "df_enriched = spark.read.table(\"mzervou.healthcare.synthetic_audio_transcripts_enriched\")"
   ]
  },
  {
   "cell_type": "markdown",
   "metadata": {
    "application/vnd.databricks.v1+cell": {
     "cellMetadata": {
      "byteLimit": 2048000,
      "rowLimit": 10000
     },
     "inputWidgets": {},
     "nuid": "1a6ed89e-ed72-46fe-b7f5-a0ef584e1b9d",
     "showTitle": false,
     "tableResultSettingsMap": {},
     "title": ""
    }
   },
   "source": [
    "\n",
    "# Use vector_search to semantically search transcripts or SOAP notes by meaning, not keywords.\n",
    "\n",
    "## Why it's important:\n",
    "- Find similar patient cases instantly.\n",
    "- Supports research, case reviews, decision support.\n",
    "- Bridges the gap between structured data and medical intuition.\n"
   ]
  },
  {
   "cell_type": "code",
   "execution_count": 0,
   "metadata": {
    "application/vnd.databricks.v1+cell": {
     "cellMetadata": {
      "byteLimit": 2048000,
      "rowLimit": 10000
     },
     "inputWidgets": {},
     "nuid": "51af99e8-789c-4f59-b1b2-76c0a5861eef",
     "showTitle": false,
     "tableResultSettingsMap": {
      "0": {
       "dataGridStateBlob": "{\"version\":1,\"tableState\":{\"columnPinning\":{\"left\":[\"#row_number#\"],\"right\":[]},\"columnSizing\":{},\"columnVisibility\":{}},\"settings\":{\"columns\":{}},\"syncTimestamp\":1752931528636}",
       "filterBlob": null,
       "queryPlanFiltersBlob": null,
       "tableResultIndex": 0
      }
     },
     "title": ""
    }
   },
   "outputs": [],
   "source": [
    "\n",
    "result_structured = spark.sql(\n",
    "    f\"\"\"\n",
    "    \n",
    "      SELECT\n",
    "        a.audio_transcript as original_audio_transcript,\n",
    "        a.patient_id,\n",
    "        search.*\n",
    "      FROM\n",
    "        mzervou.healthcare.synthetic_audio_transcripts_enriched as a,\n",
    "        LATERAL(\n",
    "      SELECT * FROM VECTOR_SEARCH(index => \"mzervou.healthcare.synthetic_audio_transcripts_enriched_index\", query_text => audio_transcript, num_results => 2)\n",
    "        ) as search\n",
    "    \"\"\"\n",
    ")\n",
    "\n",
    "result_structured.display()\n"
   ]
  },
  {
   "cell_type": "code",
   "execution_count": 0,
   "metadata": {
    "application/vnd.databricks.v1+cell": {
     "cellMetadata": {},
     "inputWidgets": {},
     "nuid": "e17e1bef-c082-4e9c-8f4c-2244483e684f",
     "showTitle": false,
     "tableResultSettingsMap": {},
     "title": ""
    }
   },
   "outputs": [],
   "source": []
  }
 ],
 "metadata": {
  "application/vnd.databricks.v1+notebook": {
   "computePreferences": null,
   "dashboards": [],
   "environmentMetadata": {
    "base_environment": "",
    "environment_version": "2"
   },
   "inputWidgetPreferences": null,
   "language": "python",
   "notebookMetadata": {
    "mostRecentlyExecutedCommandWithImplicitDF": {
     "commandId": 3878688999408893,
     "dataframes": [
      "_sqldf"
     ]
    },
    "pythonIndentUnit": 2
   },
   "notebookName": "3. Build the vectorsearch",
   "widgets": {}
  },
  "language_info": {
   "name": "python"
  }
 },
 "nbformat": 4,
 "nbformat_minor": 0
}
