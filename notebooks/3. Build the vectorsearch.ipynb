{
 "cells": [
  {
   "cell_type": "code",
   "execution_count": 0,
   "metadata": {
    "application/vnd.databricks.v1+cell": {
     "cellMetadata": {
      "byteLimit": 2048000,
      "rowLimit": 10000
     },
     "inputWidgets": {},
     "nuid": "7f633882-56e0-4a98-8525-573608d2a714",
     "showTitle": false,
     "tableResultSettingsMap": {},
     "title": ""
    }
   },
   "outputs": [],
   "source": [
    "%pip install --upgrade \"mlflow[databricks]>=3.1.0\" openai \"databricks-connect>=16.1\"\n",
    "%pip install databricks-vectorsearch\n",
    "dbutils.library.restartPython()"
   ]
  },
  {
   "cell_type": "code",
   "execution_count": 0,
   "metadata": {
    "application/vnd.databricks.v1+cell": {
     "cellMetadata": {
      "byteLimit": 2048000,
      "rowLimit": 10000
     },
     "inputWidgets": {},
     "nuid": "00f035ca-b2d3-40d0-9fac-f9c66b2b77ab",
     "showTitle": false,
     "tableResultSettingsMap": {},
     "title": ""
    }
   },
   "outputs": [],
   "source": [
    "import mlflow\n",
    "from openai import OpenAI\n",
    "import pandas as pd\n",
    "from pyspark.sql.functions import col, lit\n",
    "from databricks.vector_search.client import VectorSearchClient\n",
    "\n"
   ]
  },
  {
   "cell_type": "code",
   "execution_count": 0,
   "metadata": {
    "application/vnd.databricks.v1+cell": {
     "cellMetadata": {
      "byteLimit": 2048000,
      "rowLimit": 10000
     },
     "inputWidgets": {},
     "nuid": "6b1c88ed-83cf-420f-be73-b43baa5f684c",
     "showTitle": false,
     "tableResultSettingsMap": {},
     "title": ""
    }
   },
   "outputs": [],
   "source": [
    "\n",
    "# Parameters\n",
    "CATALOG = \"mzervou\"\n",
    "SCHEMA = \"healthcare\"\n",
    "SOURCE_TABLE = f\"{CATALOG}.{SCHEMA}.synthetic_audio_transcripts\"\n",
    "INDEX_NAME = \"synthetic_audio_transcripts_index\"\n",
    "EMBEDDING_MODEL = \"databricks-bge-large-en\"  # Most up-to-date embedding model on Databricks\n",
    "VECTOR_ENDPOINT = \"one-env-shared-endpoint-10\"\n",
    "\n",
    "# Step 1: Load the source table\n",
    "source_df = spark.table(SOURCE_TABLE)"
   ]
  },
  {
   "cell_type": "code",
   "execution_count": 0,
   "metadata": {
    "application/vnd.databricks.v1+cell": {
     "cellMetadata": {
      "byteLimit": 2048000,
      "rowLimit": 10000
     },
     "inputWidgets": {},
     "nuid": "fc27b361-693e-4ece-8eb8-8a1c96100af4",
     "showTitle": false,
     "tableResultSettingsMap": {},
     "title": ""
    }
   },
   "outputs": [],
   "source": [
    "client = VectorSearchClient()"
   ]
  },
  {
   "cell_type": "code",
   "execution_count": 0,
   "metadata": {
    "application/vnd.databricks.v1+cell": {
     "cellMetadata": {},
     "inputWidgets": {},
     "nuid": "1f0c4b40-a686-4b4d-a9b1-f69fcfe7feb1",
     "showTitle": false,
     "tableResultSettingsMap": {},
     "title": ""
    }
   },
   "outputs": [],
   "source": [
    "# client.create_endpoint(\n",
    "#     name=VECTOR_ENDPOINT,\n",
    "#     endpoint_type=\"STANDARD\" # or \"STORAGE_OPTIMIZED\"\n",
    "# )"
   ]
  },
  {
   "cell_type": "code",
   "execution_count": 0,
   "metadata": {
    "application/vnd.databricks.v1+cell": {
     "cellMetadata": {
      "byteLimit": 2048000,
      "implicitDf": true,
      "rowLimit": 10000
     },
     "inputWidgets": {},
     "nuid": "07aff543-4c99-49d0-8206-6ca9fdf4bcc7",
     "showTitle": false,
     "tableResultSettingsMap": {},
     "title": ""
    }
   },
   "outputs": [],
   "source": [
    "%sql\n",
    "\n",
    "ALTER TABLE mzervou.healthcare.synthetic_audio_transcripts\n",
    "SET TBLPROPERTIES (delta.enableChangeDataFeed = true);"
   ]
  },
  {
   "cell_type": "code",
   "execution_count": 0,
   "metadata": {
    "application/vnd.databricks.v1+cell": {
     "cellMetadata": {
      "byteLimit": 2048000,
      "rowLimit": 10000
     },
     "inputWidgets": {},
     "nuid": "7209644f-27a7-4a27-b482-38d447571d36",
     "showTitle": false,
     "tableResultSettingsMap": {},
     "title": ""
    }
   },
   "outputs": [],
   "source": [
    "# create index\n",
    "index = client.create_delta_sync_index(\n",
    "  endpoint_name=VECTOR_ENDPOINT,\n",
    "  source_table_name=SOURCE_TABLE,\n",
    "  index_name=f\"{SOURCE_TABLE}_index\",\n",
    "  pipeline_type=\"TRIGGERED\",\n",
    "  primary_key=\"patient_id\",\n",
    "  embedding_source_column=\"audio_transcript\",\n",
    "  embedding_model_endpoint_name=EMBEDDING_MODEL\n",
    ")"
   ]
  },
  {
   "cell_type": "code",
   "execution_count": 0,
   "metadata": {
    "application/vnd.databricks.v1+cell": {
     "cellMetadata": {
      "byteLimit": 2048000,
      "rowLimit": 10000
     },
     "inputWidgets": {},
     "nuid": "54a22b1a-6d02-4e78-9152-d8e50a1f97ad",
     "showTitle": true,
     "tableResultSettingsMap": {},
     "title": "Test the Index"
    }
   },
   "outputs": [],
   "source": [
    "\n",
    "# Create index object\n",
    "index = vsc.get_index(\n",
    "    endpoint_name=VECTOR_ENDPOINT,\n",
    "    index_name=f\"{SOURCE_TABLE}_index\"\n",
    ")\n",
    "\n",
    "# Step 5: Example query\n",
    "QUERY = \"Patient reports chest pain and shortness of breath\"\n",
    "\n",
    "\n",
    "# Match rows where `title` exactly matches `Athena` or `Ares`\n",
    "results = index.similarity_search(\n",
    "    query_text=QUERY,\n",
    "    columns=[\"patient_id\", \"audio_transcript\", \"department\"],\n",
    "    filters={\"department\": [\"General Medicine\", \"Cardiology\"]},\n",
    "    num_results=2\n",
    "    )\n",
    "\n",
    "print(results)\n"
   ]
  },
  {
   "cell_type": "code",
   "execution_count": 0,
   "metadata": {
    "application/vnd.databricks.v1+cell": {
     "cellMetadata": {},
     "inputWidgets": {},
     "nuid": "4f932834-0bdc-4661-ba28-8b375b18c33b",
     "showTitle": false,
     "tableResultSettingsMap": {},
     "title": ""
    }
   },
   "outputs": [],
   "source": []
  }
 ],
 "metadata": {
  "application/vnd.databricks.v1+notebook": {
   "computePreferences": null,
   "dashboards": [],
   "environmentMetadata": {
    "base_environment": "",
    "environment_version": "2"
   },
   "inputWidgetPreferences": null,
   "language": "python",
   "notebookMetadata": {
    "mostRecentlyExecutedCommandWithImplicitDF": {
     "commandId": 3878688999408893,
     "dataframes": [
      "_sqldf"
     ]
    },
    "pythonIndentUnit": 2
   },
   "notebookName": "3. Build the vectorsearch",
   "widgets": {}
  },
  "language_info": {
   "name": "python"
  }
 },
 "nbformat": 4,
 "nbformat_minor": 0
}
