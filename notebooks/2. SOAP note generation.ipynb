{
 "cells": [
  {
   "cell_type": "code",
   "execution_count": 0,
   "metadata": {
    "application/vnd.databricks.v1+cell": {
     "cellMetadata": {
      "byteLimit": 2048000,
      "rowLimit": 10000
     },
     "inputWidgets": {},
     "nuid": "9a2b2c0c-4f49-4430-a7ca-6dacf736cbe1",
     "showTitle": false,
     "tableResultSettingsMap": {},
     "title": ""
    }
   },
   "outputs": [],
   "source": [
    "import json\n",
    "import os\n",
    "import mlflow\n",
    "import pandas as pd\n",
    "import random\n",
    "from datetime import datetime, timedelta"
   ]
  },
  {
   "cell_type": "code",
   "execution_count": 0,
   "metadata": {
    "application/vnd.databricks.v1+cell": {
     "cellMetadata": {
      "byteLimit": 2048000,
      "rowLimit": 10000
     },
     "inputWidgets": {},
     "nuid": "0ab5505d-bc08-44c7-8e47-9acff1a50727",
     "showTitle": false,
     "tableResultSettingsMap": {},
     "title": ""
    }
   },
   "outputs": [],
   "source": [
    "\n",
    "# Parameters\n",
    "CATALOG = \"mzervou\"\n",
    "SCHEMA = \"healthcare\"\n",
    "SOURCE_TABLE = f\"{CATALOG}.{SCHEMA}.synthetic_audio_transcripts\"\n",
    "MODEL_NAME = \"databricks-claude-3-7-sonnet\"\n",
    "\n",
    "# Step 1: Load the source table\n",
    "source_df = spark.table(SOURCE_TABLE)"
   ]
  },
  {
   "cell_type": "code",
   "execution_count": 0,
   "metadata": {
    "application/vnd.databricks.v1+cell": {
     "cellMetadata": {
      "byteLimit": 2048000,
      "rowLimit": 10000
     },
     "inputWidgets": {},
     "nuid": "c9c83f00-aeb2-4f66-896b-b0647dc34369",
     "showTitle": false,
     "tableResultSettingsMap": {},
     "title": ""
    }
   },
   "outputs": [],
   "source": [
    "from pyspark.sql.functions import expr\n",
    "\n",
    "df_transcripts = spark.read.table(\"mzervou.healthcare.synthetic_audio_transcripts\")\n",
    "\n",
    "df_soap = df_transcripts.withColumn(\n",
    "    \"soap_note\",\n",
    "    expr(\n",
    "        f\"\"\"\n",
    "        ai_query(\n",
    "            '{MODEL_NAME}',\n",
    "            concat(\n",
    "                'You are a clinical AI assistant. Convert this audio transcript into a structured SOAP note (Subjective, Objective, Assessment, Plan): ',\n",
    "                audio_transcript\n",
    "            )\n",
    "        )\n",
    "        \"\"\"\n",
    "    )\n",
    ")\n",
    "\n",
    "df_soap.write.mode(\"overwrite\").saveAsTable(\"mzervou.healthcare.synthetic_audio_transcripts_enriched\")\n",
    "\n",
    "print(\"✅ SOAP notes written using ai_query() to table: mzervou.healthcare.synthetic_audio_transcripts_enriched\")\n"
   ]
  },
  {
   "cell_type": "code",
   "execution_count": 0,
   "metadata": {
    "application/vnd.databricks.v1+cell": {
     "cellMetadata": {},
     "inputWidgets": {},
     "nuid": "cc818a11-8a85-47b3-9cf7-a68f675764e3",
     "showTitle": false,
     "tableResultSettingsMap": {},
     "title": ""
    }
   },
   "outputs": [],
   "source": []
  }
 ],
 "metadata": {
  "application/vnd.databricks.v1+notebook": {
   "computePreferences": null,
   "dashboards": [],
   "environmentMetadata": {
    "base_environment": "",
    "environment_version": "2"
   },
   "inputWidgetPreferences": null,
   "language": "python",
   "notebookMetadata": {
    "pythonIndentUnit": 2
   },
   "notebookName": "2. SOAP note generation",
   "widgets": {}
  },
  "language_info": {
   "name": "python"
  }
 },
 "nbformat": 4,
 "nbformat_minor": 0
}
