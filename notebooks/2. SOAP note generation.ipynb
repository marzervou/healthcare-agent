{
 "cells": [
  {
   "cell_type": "code",
   "execution_count": 0,
   "metadata": {
    "application/vnd.databricks.v1+cell": {
     "cellMetadata": {
      "byteLimit": 2048000,
      "rowLimit": 10000
     },
     "inputWidgets": {},
     "nuid": "9a2b2c0c-4f49-4430-a7ca-6dacf736cbe1",
     "showTitle": false,
     "tableResultSettingsMap": {},
     "title": ""
    }
   },
   "outputs": [],
   "source": [
    "import json\n",
    "import os\n",
    "import mlflow\n",
    "import pandas as pd\n",
    "import random\n",
    "from datetime import datetime, timedelta"
   ]
  },
  {
   "cell_type": "code",
   "execution_count": 0,
   "metadata": {
    "application/vnd.databricks.v1+cell": {
     "cellMetadata": {
      "byteLimit": 2048000,
      "rowLimit": 10000
     },
     "inputWidgets": {},
     "nuid": "0ab5505d-bc08-44c7-8e47-9acff1a50727",
     "showTitle": false,
     "tableResultSettingsMap": {},
     "title": ""
    }
   },
   "outputs": [],
   "source": [
    "\n",
    "# Parameters\n",
    "CATALOG = \"mzervou\"\n",
    "SCHEMA = \"healthcare\"\n",
    "SOURCE_TABLE = f\"{CATALOG}.{SCHEMA}.synthetic_audio_transcripts\"\n",
    "MODEL_NAME = \"databricks-meta-llama-3-3-70b-instruct\"\n",
    "\n",
    "# Step 1: Load the source table\n",
    "source_df = spark.table(SOURCE_TABLE)"
   ]
  },
  {
   "cell_type": "markdown",
   "metadata": {
    "application/vnd.databricks.v1+cell": {
     "cellMetadata": {},
     "inputWidgets": {},
     "nuid": "0942481b-d226-4c56-875a-406993cd1725",
     "showTitle": false,
     "tableResultSettingsMap": {},
     "title": ""
    }
   },
   "source": [
    "# Step 1: SOAP Note Generation\n",
    "\n",
    "## What we do:\n",
    "Use ai_query to generate structured SOAP notes from unstructured doctor transcripts.\n",
    "\n",
    "## Why it's important:\n",
    "- Standardizes medical documentation.\n",
    "- Easier for clinicians to read and verify.\n",
    "- Makes future queries and analytics possible.\n"
   ]
  },
  {
   "cell_type": "code",
   "execution_count": 0,
   "metadata": {
    "application/vnd.databricks.v1+cell": {
     "cellMetadata": {
      "byteLimit": 2048000,
      "rowLimit": 10000
     },
     "inputWidgets": {},
     "nuid": "c9c83f00-aeb2-4f66-896b-b0647dc34369",
     "showTitle": false,
     "tableResultSettingsMap": {},
     "title": ""
    }
   },
   "outputs": [],
   "source": [
    "from pyspark.sql.functions import expr\n",
    "\n",
    "df_transcripts = spark.read.table(\"mzervou.healthcare.synthetic_audio_transcripts\")\n",
    "\n",
    "df_soap = df_transcripts.withColumn(\n",
    "    \"soap_note\",\n",
    "    expr(\n",
    "        f\"\"\"\n",
    "        ai_query(\n",
    "            '{MODEL_NAME}',\n",
    "            concat(\n",
    "                'You are a clinical AI assistant. Convert this audio transcript into a structured SOAP note (Subjective, Objective, Assessment, Plan): ',\n",
    "                audio_transcript\n",
    "            )\n",
    "        )\n",
    "        \"\"\"\n",
    "    )\n",
    ")\n",
    "\n",
    "df_soap.write.mode(\"overwrite\").saveAsTable(\"mzervou.healthcare.synthetic_audio_transcripts_enriched\")\n",
    "\n",
    "print(\"✅ SOAP notes written using ai_query() to table: mzervou.healthcare.synthetic_audio_transcripts_enriched\")\n"
   ]
  },
  {
   "cell_type": "code",
   "execution_count": 0,
   "metadata": {
    "application/vnd.databricks.v1+cell": {
     "cellMetadata": {
      "byteLimit": 2048000,
      "rowLimit": 10000
     },
     "inputWidgets": {},
     "nuid": "f37d306a-f36a-41ec-afda-46f8c5d7cdfc",
     "showTitle": false,
     "tableResultSettingsMap": {},
     "title": ""
    }
   },
   "outputs": [],
   "source": [
    "df_soap.display()"
   ]
  },
  {
   "cell_type": "code",
   "execution_count": 0,
   "metadata": {
    "application/vnd.databricks.v1+cell": {
     "cellMetadata": {
      "byteLimit": 2048000,
      "rowLimit": 10000
     },
     "inputWidgets": {},
     "nuid": "cc818a11-8a85-47b3-9cf7-a68f675764e3",
     "showTitle": false,
     "tableResultSettingsMap": {},
     "title": ""
    },
    "jupyter": {
     "source_hidden": true
    }
   },
   "outputs": [],
   "source": [
    "from pyspark.sql.functions import expr\n",
    "df_transcripts = spark.read.table(\"mzervou.healthcare.synthetic_audio_transcripts_enriched\")\n"
   ]
  },
  {
   "cell_type": "markdown",
   "metadata": {
    "application/vnd.databricks.v1+cell": {
     "cellMetadata": {},
     "inputWidgets": {},
     "nuid": "bbb40788-198b-4840-ab3a-4b8c0e49e223",
     "showTitle": false,
     "tableResultSettingsMap": {},
     "title": ""
    }
   },
   "source": [
    "# Step 2: Structured JSON Extraction\n",
    "\n",
    "## What we do:\n",
    "Use ai_query with enforced schema to extract fields like lifestyle choices like smoking, alcohol use, diet into strict JSON.\n",
    "## \n",
    "## Why it's important:\n",
    "- Guarantees structured, consistent data for analytics.\n",
    "- Enables clean integration with BI tools and reporting.\n",
    "- Supports compliance and auditability.\n"
   ]
  },
  {
   "cell_type": "code",
   "execution_count": 0,
   "metadata": {
    "application/vnd.databricks.v1+cell": {
     "cellMetadata": {
      "byteLimit": 2048000,
      "rowLimit": 10000
     },
     "inputWidgets": {},
     "nuid": "0465078a-0443-49d3-833b-c9f90981499b",
     "showTitle": false,
     "tableResultSettingsMap": {},
     "title": ""
    }
   },
   "outputs": [],
   "source": [
    "response_schema = \"\"\"\n",
    "{\n",
    "    \"type\": \"json_schema\",\n",
    "    \"json_schema\": {\n",
    "        \"name\": \"risk_factors\",\n",
    "        \"schema\": {\n",
    "            \"type\": \"object\",\n",
    "            \"properties\": {\n",
    "                \"smoking_status\": { \"type\": \"string\" },\n",
    "                \"alcohol_use\": { \"type\": \"string\" },\n",
    "                \"diet_quality\": { \"type\": \"string\" },\n",
    "                \"exercise_level\": { \"type\": \"string\" },\n",
    "                \"medication_adherence\": { \"type\": \"string\" },\n",
    "                \"family_history_CAD\": { \"type\": \"string\" }\n",
    "            },\n",
    "            \"required\": [\"smoking_status\", \"alcohol_use\", \"diet_quality\", \"exercise_level\", \"medication_adherence\", \"family_history_CAD\"]\n",
    "        },\n",
    "        \"strict\": true\n",
    "    }\n",
    "}\n",
    "\"\"\"\n"
   ]
  },
  {
   "cell_type": "code",
   "execution_count": 0,
   "metadata": {
    "application/vnd.databricks.v1+cell": {
     "cellMetadata": {
      "byteLimit": 2048000,
      "rowLimit": 10000
     },
     "inputWidgets": {},
     "nuid": "867c8afb-b449-4d3e-9108-b4a40584105d",
     "showTitle": false,
     "tableResultSettingsMap": {},
     "title": ""
    }
   },
   "outputs": [],
   "source": [
    "result_structured_test = spark.sql(\n",
    "    f\"\"\"\n",
    "    SELECT *,\n",
    "           ai_query(\n",
    "               '{MODEL_NAME}',\n",
    "               CONCAT(\n",
    "                   'Extract structured JSON for the following risk factors from this transcript: '\n",
    "                   'smoking_status, alcohol_use, diet_quality, exercise_level, medication_adherence, family_history_CAD. Transcript: ', \n",
    "                   audio_transcript\n",
    "               ),\n",
    "               responseFormat => '{response_schema}'\n",
    "           ) AS risk_factors_structured_output\n",
    "    FROM mzervou.healthcare.synthetic_audio_transcripts_enriched\n",
    "    \"\"\"\n",
    ")\n",
    "\n",
    "result_structured_test.display()\n"
   ]
  },
  {
   "cell_type": "code",
   "execution_count": 0,
   "metadata": {
    "application/vnd.databricks.v1+cell": {
     "cellMetadata": {
      "byteLimit": 2048000,
      "rowLimit": 10000
     },
     "inputWidgets": {},
     "nuid": "75234a77-a780-4f86-b437-ba7f9915c96b",
     "showTitle": false,
     "tableResultSettingsMap": {},
     "title": ""
    }
   },
   "outputs": [],
   "source": [
    "response_schema = \"\"\"\n",
    "{\n",
    "    \"type\": \"json_schema\",\n",
    "    \"json_schema\": {\n",
    "        \"name\": \"risk_factors\",\n",
    "        \"schema\": {\n",
    "            \"type\": \"object\",\n",
    "            \"properties\": {\n",
    "                \"smoking_status\": { \n",
    "                    \"type\": \"string\",\n",
    "                    \"enum\": [\"None\", \"Current\", \"Former\"]\n",
    "                },\n",
    "                \"alcohol_use\": { \n",
    "                    \"type\": \"string\",\n",
    "                    \"enum\": [\"None\", \"Light\", \"Moderate\", \"Heavy\"]\n",
    "                },\n",
    "                \"diet_quality\": { \n",
    "                    \"type\": \"string\",\n",
    "                    \"enum\": [\"Poor\", \"Average\", \"Good\"]\n",
    "                },\n",
    "                \"exercise_level\": { \n",
    "                    \"type\": \"string\",\n",
    "                    \"enum\": [\"None\", \"Low\", \"Moderate\", \"High\"]\n",
    "                },\n",
    "                \"medication_adherence\": { \n",
    "                    \"type\": \"string\",\n",
    "                    \"enum\": [\"None\", \"Poor\", \"Moderate\", \"Good\"]\n",
    "                },\n",
    "                \"family_history_CAD\": { \n",
    "                    \"type\": \"string\",\n",
    "                    \"enum\": [\"Yes\", \"No\", \"Unknown\"]\n",
    "                }\n",
    "            },\n",
    "            \"required\": [\"smoking_status\", \"alcohol_use\", \"diet_quality\", \"exercise_level\", \"medication_adherence\", \"family_history_CAD\"]\n",
    "        },\n",
    "        \"strict\": true\n",
    "    }\n",
    "}\n",
    "\"\"\"\n"
   ]
  },
  {
   "cell_type": "code",
   "execution_count": 0,
   "metadata": {
    "application/vnd.databricks.v1+cell": {
     "cellMetadata": {
      "byteLimit": 2048000,
      "rowLimit": 10000
     },
     "inputWidgets": {},
     "nuid": "bac28da9-2a71-4fd9-afd4-128fe0e884b1",
     "showTitle": false,
     "tableResultSettingsMap": {},
     "title": ""
    }
   },
   "outputs": [],
   "source": [
    "result_structured = spark.sql(\n",
    "    f\"\"\"\n",
    "    SELECT *,\n",
    "           ai_query(\n",
    "               '{MODEL_NAME}',\n",
    "               CONCAT(\n",
    "                   'Extract structured JSON for the following risk factors from this transcript: '\n",
    "                   'smoking_status, alcohol_use, diet_quality, exercise_level, medication_adherence, family_history_CAD. Transcript: ', \n",
    "                   audio_transcript\n",
    "               ),\n",
    "               responseFormat => '{response_schema}'\n",
    "           ) AS risk_factors_structured_output\n",
    "    FROM mzervou.healthcare.synthetic_audio_transcripts_enriched\n",
    "    \"\"\"\n",
    ")\n",
    "\n",
    "result_structured.display()"
   ]
  },
  {
   "cell_type": "markdown",
   "metadata": {
    "application/vnd.databricks.v1+cell": {
     "cellMetadata": {},
     "inputWidgets": {},
     "nuid": "6e26292f-0b71-40f9-8c53-71f5177b63a6",
     "showTitle": false,
     "tableResultSettingsMap": {},
     "title": ""
    }
   },
   "source": [
    "# Step 3: Visit Sentiment Classification \n",
    "\n",
    "## What we do:\n",
    "Use ai_classify to label each encounter as Routine, Urgent, or Emergency.\n",
    "\n",
    "## Why it's important:\n",
    "- Enables operational triage insights.\n",
    "- Helps prioritize care or escalate reviews.\n",
    "- Can flag risky cases automatically.\n",
    "\n",
    "# Step 3+ --> Name Masking"
   ]
  },
  {
   "cell_type": "code",
   "execution_count": 0,
   "metadata": {
    "application/vnd.databricks.v1+cell": {
     "cellMetadata": {
      "byteLimit": 2048000,
      "rowLimit": 10000
     },
     "inputWidgets": {},
     "nuid": "68f2f7fe-0551-46bd-b4ab-919280ef1daf",
     "showTitle": false,
     "tableResultSettingsMap": {
      "0": {
       "dataGridStateBlob": "{\"version\":1,\"tableState\":{\"columnPinning\":{\"left\":[\"#row_number#\"],\"right\":[]},\"columnSizing\":{},\"columnVisibility\":{}},\"settings\":{\"columns\":{}},\"syncTimestamp\":1752931376165}",
       "filterBlob": null,
       "queryPlanFiltersBlob": null,
       "tableResultIndex": 0
      }
     },
     "title": ""
    }
   },
   "outputs": [],
   "source": [
    "from pyspark.sql.functions import col\n",
    "\n",
    "df_enriched = (\n",
    "    result_structured \n",
    "    .withColumn(\n",
    "      \"visit_sentiment\",\n",
    "      expr(\n",
    "        f\"\"\"\n",
    "        ai_classify(\n",
    "            audio_transcript,\n",
    "            array('Routine', 'Urgent', 'Emergency')\n",
    "        )\n",
    "        \"\"\"\n",
    "      )\n",
    "    )\n",
    "    .withColumn(\n",
    "    \"masked_transcript\",\n",
    "    expr(\n",
    "        \"\"\"\n",
    "        ai_mask(\n",
    "            audio_transcript,\n",
    "            array('person', 'location')\n",
    "        )\n",
    "        \"\"\"\n",
    "    )\n",
    ")\n",
    ")\n",
    "\n",
    "df_enriched.display()"
   ]
  },
  {
   "cell_type": "markdown",
   "metadata": {
    "application/vnd.databricks.v1+cell": {
     "cellMetadata": {},
     "inputWidgets": {},
     "nuid": "8e62785c-0cf5-432b-a7f4-531533963880",
     "showTitle": false,
     "tableResultSettingsMap": {},
     "title": ""
    }
   },
   "source": [
    "# Step 4: Multilingual Translations\n",
    "\n",
    "\n",
    "## What we do:\n",
    "Use ai_translate to convert SOAP notes into Spanish.\n",
    "\n",
    "### Why it's important:\n",
    "- Supports international patients and providers.\n",
    "- Enhances inclusivity and care quality.\n",
    "- Prepares data for multi-language environments.\n"
   ]
  },
  {
   "cell_type": "code",
   "execution_count": 0,
   "metadata": {
    "application/vnd.databricks.v1+cell": {
     "cellMetadata": {
      "byteLimit": 2048000,
      "rowLimit": 10000
     },
     "inputWidgets": {},
     "nuid": "78200f3c-66bf-445c-bc63-14b742f76948",
     "showTitle": false,
     "tableResultSettingsMap": {},
     "title": ""
    }
   },
   "outputs": [],
   "source": [
    "# Translation to Spanish\n",
    "df_enriched_final = (\n",
    "    df_enriched    \n",
    "    .withColumn(\n",
    "        \"soap_note_spanish\",\n",
    "        expr(\n",
    "            \"\"\"\n",
    "            ai_translate(\n",
    "                soap_note,\n",
    "                'es'\n",
    "            )\n",
    "            \"\"\"\n",
    "        )\n",
    ")\n",
    ")\n",
    "df_enriched_final.display()"
   ]
  },
  {
   "cell_type": "code",
   "execution_count": 0,
   "metadata": {
    "application/vnd.databricks.v1+cell": {
     "cellMetadata": {
      "byteLimit": 2048000,
      "rowLimit": 10000
     },
     "inputWidgets": {},
     "nuid": "264ee768-50ac-497a-9b9f-7353d7cefc87",
     "showTitle": false,
     "tableResultSettingsMap": {},
     "title": ""
    }
   },
   "outputs": [],
   "source": [
    "df_enriched_final.write.mode(\"overwrite\").option(\"mergeSchema\", \"true\").saveAsTable(\"mzervou.healthcare.synthetic_audio_transcripts_enriched\")\n"
   ]
  },
  {
   "cell_type": "code",
   "execution_count": 0,
   "metadata": {
    "application/vnd.databricks.v1+cell": {
     "cellMetadata": {},
     "inputWidgets": {},
     "nuid": "c87bf6f9-a34f-4092-bc11-81a56c0cd89d",
     "showTitle": false,
     "tableResultSettingsMap": {},
     "title": ""
    }
   },
   "outputs": [],
   "source": []
  }
 ],
 "metadata": {
  "application/vnd.databricks.v1+notebook": {
   "computePreferences": null,
   "dashboards": [],
   "environmentMetadata": {
    "base_environment": "",
    "environment_version": "2"
   },
   "inputWidgetPreferences": null,
   "language": "python",
   "notebookMetadata": {
    "pythonIndentUnit": 2
   },
   "notebookName": "2. SOAP note generation",
   "widgets": {}
  },
  "language_info": {
   "name": "python"
  }
 },
 "nbformat": 4,
 "nbformat_minor": 0
}
